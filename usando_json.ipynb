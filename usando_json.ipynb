{
 "cells": [
  {
   "cell_type": "code",
   "execution_count": 22,
   "id": "ac6ecc75-84d4-4696-aafa-393499e2896e",
   "metadata": {},
   "outputs": [],
   "source": [
    "from pyspark.sql import SparkSession"
   ]
  },
  {
   "cell_type": "code",
   "execution_count": 23,
   "id": "a94b3c68-78c4-4473-b849-1dc0772d124c",
   "metadata": {},
   "outputs": [],
   "source": [
    "spark = SparkSession.builder.getOrCreate()"
   ]
  },
  {
   "cell_type": "code",
   "execution_count": 24,
   "id": "e347fe76-7189-4fe3-aa59-261f212cc024",
   "metadata": {},
   "outputs": [],
   "source": [
    "data_path = '/home/antoniojose/python_workspace'"
   ]
  },
  {
   "cell_type": "code",
   "execution_count": 25,
   "id": "2aedac3c-8455-48cd-8709-a573bfab7363",
   "metadata": {},
   "outputs": [],
   "source": [
    "file_path_json = data_path + '/data/pessoas.json'\n",
    "people_json = spark.read.format('json').load(file_path_json)"
   ]
  },
  {
   "cell_type": "code",
   "execution_count": 26,
   "id": "a28c1349-53ab-43d9-8540-a7c9c1ab12e7",
   "metadata": {},
   "outputs": [
    {
     "data": {
      "text/plain": [
       "10"
      ]
     },
     "execution_count": 26,
     "metadata": {},
     "output_type": "execute_result"
    }
   ],
   "source": [
    "people_json.count()"
   ]
  },
  {
   "cell_type": "code",
   "execution_count": 29,
   "id": "b6bb5c50-6a6b-42fb-858e-25ee6efa437e",
   "metadata": {},
   "outputs": [
    {
     "name": "stdout",
     "output_type": "stream",
     "text": [
      "+-----------+--------------+------------------+---+-----------------+---------+---------+\n",
      "|Aniversario|        Cidade|             Email| ID|             Nome|     Sexo| Telefone|\n",
      "+-----------+--------------+------------------+---+-----------------+---------+---------+\n",
      "| 01/01/1990|     São Paulo|    joao@email.com|  1|       João Silva|Masculino|123456789|\n",
      "| 15/05/1985|Rio de Janeiro|   maria@email.com|  2|   Maria Oliveira| Feminino|987654321|\n",
      "| 10/11/1982|Belo Horizonte|  carlos@email.com|  3|     Carlos Souza|Masculino|555555555|\n",
      "| 20/03/1995|      Salvador|     ana@email.com|  4|       Ana Santos| Feminino|999888777|\n",
      "| 05/09/1978|      Brasília|   pedro@email.com|  5|      Pedro Costa|Masculino|111222333|\n",
      "| 25/07/1989|        Recife|fernanda@email.com|  6| Fernanda Pereira| Feminino|777888999|\n",
      "| 30/12/1980|      Curitiba|  thiago@email.com|  7|  Thiago Oliveira|Masculino|444333222|\n",
      "| 12/06/1992|     Fortaleza|gabriela@email.com|  8|    Gabriela Lima| Feminino|666777888|\n",
      "| 08/04/1987|  Porto Alegre| ricardo@email.com|  9|Ricardo Fernandes|Masculino|222111444|\n",
      "| 18/10/1983|        Manaus|  marina@email.com| 10|   Marina Almeida| Feminino|333444555|\n",
      "+-----------+--------------+------------------+---+-----------------+---------+---------+\n",
      "\n"
     ]
    }
   ],
   "source": [
    "people_json.show()"
   ]
  },
  {
   "cell_type": "code",
   "execution_count": 30,
   "id": "45ced307-624c-4a69-a4e9-259f58b38fc0",
   "metadata": {},
   "outputs": [
    {
     "data": {
      "text/plain": [
       "['Aniversario', 'Cidade', 'Email', 'ID', 'Nome', 'Sexo', 'Telefone']"
      ]
     },
     "execution_count": 30,
     "metadata": {},
     "output_type": "execute_result"
    }
   ],
   "source": [
    "people_json.columns"
   ]
  },
  {
   "cell_type": "code",
   "execution_count": 33,
   "id": "5066825d-9c9c-46e2-b133-c88a8dacbb98",
   "metadata": {},
   "outputs": [],
   "source": [
    "people_dataframe = people_json.sample(False, fraction=1.0)"
   ]
  },
  {
   "cell_type": "code",
   "execution_count": 34,
   "id": "f23ee877-bb00-4ce3-b921-ce35fe225682",
   "metadata": {},
   "outputs": [
    {
     "name": "stdout",
     "output_type": "stream",
     "text": [
      "+-----------+--------------+------------------+---+-----------------+---------+---------+\n",
      "|Aniversario|        Cidade|             Email| ID|             Nome|     Sexo| Telefone|\n",
      "+-----------+--------------+------------------+---+-----------------+---------+---------+\n",
      "| 01/01/1990|     São Paulo|    joao@email.com|  1|       João Silva|Masculino|123456789|\n",
      "| 15/05/1985|Rio de Janeiro|   maria@email.com|  2|   Maria Oliveira| Feminino|987654321|\n",
      "| 10/11/1982|Belo Horizonte|  carlos@email.com|  3|     Carlos Souza|Masculino|555555555|\n",
      "| 20/03/1995|      Salvador|     ana@email.com|  4|       Ana Santos| Feminino|999888777|\n",
      "| 05/09/1978|      Brasília|   pedro@email.com|  5|      Pedro Costa|Masculino|111222333|\n",
      "| 25/07/1989|        Recife|fernanda@email.com|  6| Fernanda Pereira| Feminino|777888999|\n",
      "| 30/12/1980|      Curitiba|  thiago@email.com|  7|  Thiago Oliveira|Masculino|444333222|\n",
      "| 12/06/1992|     Fortaleza|gabriela@email.com|  8|    Gabriela Lima| Feminino|666777888|\n",
      "| 08/04/1987|  Porto Alegre| ricardo@email.com|  9|Ricardo Fernandes|Masculino|222111444|\n",
      "| 18/10/1983|        Manaus|  marina@email.com| 10|   Marina Almeida| Feminino|333444555|\n",
      "+-----------+--------------+------------------+---+-----------------+---------+---------+\n",
      "\n"
     ]
    }
   ],
   "source": [
    "people_dataframe.show()"
   ]
  },
  {
   "cell_type": "code",
   "execution_count": 35,
   "id": "ffbf27f7-0ddf-4f04-a502-42f168e50505",
   "metadata": {},
   "outputs": [
    {
     "name": "stdout",
     "output_type": "stream",
     "text": [
      "+-----------+--------------+------------------+---+-----------------+---------+---------+\n",
      "|Aniversario|        Cidade|             Email| ID|             Nome|     Sexo| Telefone|\n",
      "+-----------+--------------+------------------+---+-----------------+---------+---------+\n",
      "| 20/03/1995|      Salvador|     ana@email.com|  4|       Ana Santos| Feminino|999888777|\n",
      "| 10/11/1982|Belo Horizonte|  carlos@email.com|  3|     Carlos Souza|Masculino|555555555|\n",
      "| 25/07/1989|        Recife|fernanda@email.com|  6| Fernanda Pereira| Feminino|777888999|\n",
      "| 12/06/1992|     Fortaleza|gabriela@email.com|  8|    Gabriela Lima| Feminino|666777888|\n",
      "| 01/01/1990|     São Paulo|    joao@email.com|  1|       João Silva|Masculino|123456789|\n",
      "| 15/05/1985|Rio de Janeiro|   maria@email.com|  2|   Maria Oliveira| Feminino|987654321|\n",
      "| 18/10/1983|        Manaus|  marina@email.com| 10|   Marina Almeida| Feminino|333444555|\n",
      "| 05/09/1978|      Brasília|   pedro@email.com|  5|      Pedro Costa|Masculino|111222333|\n",
      "| 08/04/1987|  Porto Alegre| ricardo@email.com|  9|Ricardo Fernandes|Masculino|222111444|\n",
      "| 30/12/1980|      Curitiba|  thiago@email.com|  7|  Thiago Oliveira|Masculino|444333222|\n",
      "+-----------+--------------+------------------+---+-----------------+---------+---------+\n",
      "\n"
     ]
    }
   ],
   "source": [
    "people_sorted = people_dataframe.sort('Nome')\n",
    "people_sorted.show()"
   ]
  },
  {
   "cell_type": "code",
   "execution_count": 36,
   "id": "e8c8caf9-b43e-4221-9a9c-2127ab76ca4b",
   "metadata": {},
   "outputs": [
    {
     "name": "stdout",
     "output_type": "stream",
     "text": [
      "+-----------+--------------+------------------+---+----------------+--------+---------+\n",
      "|Aniversario|        Cidade|             Email| ID|            Nome|    Sexo| Telefone|\n",
      "+-----------+--------------+------------------+---+----------------+--------+---------+\n",
      "| 15/05/1985|Rio de Janeiro|   maria@email.com|  2|  Maria Oliveira|Feminino|987654321|\n",
      "| 20/03/1995|      Salvador|     ana@email.com|  4|      Ana Santos|Feminino|999888777|\n",
      "| 25/07/1989|        Recife|fernanda@email.com|  6|Fernanda Pereira|Feminino|777888999|\n",
      "| 12/06/1992|     Fortaleza|gabriela@email.com|  8|   Gabriela Lima|Feminino|666777888|\n",
      "| 18/10/1983|        Manaus|  marina@email.com| 10|  Marina Almeida|Feminino|333444555|\n",
      "+-----------+--------------+------------------+---+----------------+--------+---------+\n",
      "\n"
     ]
    }
   ],
   "source": [
    "people_woman = people_dataframe.filter(people_dataframe['Sexo'] == 'Feminino')\n",
    "people_woman.show()"
   ]
  },
  {
   "cell_type": "code",
   "execution_count": 38,
   "id": "596b8773-df02-4d50-ac72-578587bafff3",
   "metadata": {},
   "outputs": [
    {
     "name": "stdout",
     "output_type": "stream",
     "text": [
      "+---------+-----+\n",
      "|     Sexo|count|\n",
      "+---------+-----+\n",
      "| Feminino|    5|\n",
      "|Masculino|    5|\n",
      "+---------+-----+\n",
      "\n"
     ]
    }
   ],
   "source": [
    "people_dataframe.groupBy('Sexo').count().show()"
   ]
  },
  {
   "cell_type": "code",
   "execution_count": 40,
   "id": "631819b5-948f-4666-b95d-996235baed8c",
   "metadata": {},
   "outputs": [
    {
     "name": "stdout",
     "output_type": "stream",
     "text": [
      "+---------+-----+\n",
      "|     Sexo|count|\n",
      "+---------+-----+\n",
      "| Feminino|    5|\n",
      "|Masculino|    5|\n",
      "+---------+-----+\n",
      "\n"
     ]
    }
   ],
   "source": [
    "people_dataframe.groupBy('Sexo').count().show()\n",
    "people_dataframe.write.csv('people_group_by_sex.csv')"
   ]
  },
  {
   "cell_type": "code",
   "execution_count": 41,
   "id": "fe6d8e24-1f29-492d-85e2-eb2be77c98de",
   "metadata": {},
   "outputs": [
    {
     "name": "stdout",
     "output_type": "stream",
     "text": [
      "_SUCCESS  part-00000-4da17078-b22f-487b-a896-1f7672b58674-c000.csv\n"
     ]
    }
   ],
   "source": [
    "! ls people_group_by_sex.csv"
   ]
  },
  {
   "cell_type": "code",
   "execution_count": null,
   "id": "dbcb28dc-0fca-406d-8d2d-20d6582f9ff7",
   "metadata": {},
   "outputs": [],
   "source": []
  }
 ],
 "metadata": {
  "kernelspec": {
   "display_name": "Python 3 (ipykernel)",
   "language": "python",
   "name": "python3"
  },
  "language_info": {
   "codemirror_mode": {
    "name": "ipython",
    "version": 3
   },
   "file_extension": ".py",
   "mimetype": "text/x-python",
   "name": "python",
   "nbconvert_exporter": "python",
   "pygments_lexer": "ipython3",
   "version": "3.11.6"
  }
 },
 "nbformat": 4,
 "nbformat_minor": 5
}
