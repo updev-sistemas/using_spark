{
 "cells": [
  {
   "cell_type": "code",
   "execution_count": 1,
   "id": "85dedb7c-05f8-423a-bbcc-2d659a8180f5",
   "metadata": {},
   "outputs": [],
   "source": [
    "from pyspark.sql import SparkSession"
   ]
  },
  {
   "cell_type": "code",
   "execution_count": 2,
   "id": "7fa27ffa-5656-477f-832a-d7b4c47f3c9c",
   "metadata": {},
   "outputs": [],
   "source": [
    "spark = SparkSession.builder.getOrCreate()"
   ]
  },
  {
   "cell_type": "code",
   "execution_count": 3,
   "id": "62762bb3-a01b-4c82-b263-5c504a2c250f",
   "metadata": {},
   "outputs": [],
   "source": [
    "data_path = '/home/antoniojose/python_workspace'"
   ]
  },
  {
   "cell_type": "code",
   "execution_count": 4,
   "id": "49894ef5-f1cb-4323-9225-76aee5199b25",
   "metadata": {},
   "outputs": [],
   "source": [
    "file_path_csv = data_path + '/data/pessoas.csv'\n",
    "people_csv = spark.read.format('csv').option('header', 'True').load(file_path_csv)"
   ]
  },
  {
   "cell_type": "code",
   "execution_count": 5,
   "id": "5ef5e3cc-7d0d-478d-8f1b-192d4a359a04",
   "metadata": {},
   "outputs": [
    {
     "data": {
      "text/plain": [
       "[Row(ID='1',  Nome=' João Silva',  Email=' joao@email.com',  Telefone=' 123456789',  Cidade=' São Paulo',  Aniversario=' 01/01/1990',  Sexo=' Masculino'),\n",
       " Row(ID='2',  Nome=' Maria Oliveira',  Email=' maria@email.com',  Telefone=' 987654321',  Cidade=' Rio de Janeiro',  Aniversario=' 15/05/1985',  Sexo=' Feminino'),\n",
       " Row(ID='3',  Nome=' Carlos Souza',  Email=' carlos@email.com',  Telefone=' 555555555',  Cidade=' Belo Horizonte',  Aniversario=' 10/11/1982',  Sexo=' Masculino'),\n",
       " Row(ID='4',  Nome=' Ana Santos',  Email=' ana@email.com',  Telefone=' 999888777',  Cidade=' Salvador',  Aniversario=' 20/03/1995',  Sexo=' Feminino'),\n",
       " Row(ID='5',  Nome=' Pedro Costa',  Email=' pedro@email.com',  Telefone=' 111222333',  Cidade=' Brasília',  Aniversario=' 05/09/1978',  Sexo=' Masculino'),\n",
       " Row(ID='6',  Nome=' Fernanda Pereira',  Email=' fernanda@email.com',  Telefone=' 777888999',  Cidade=' Recife',  Aniversario=' 25/07/1989',  Sexo=' Feminino'),\n",
       " Row(ID='7',  Nome=' Thiago Oliveira',  Email=' thiago@email.com',  Telefone=' 444333222',  Cidade=' Curitiba',  Aniversario=' 30/12/1980',  Sexo=' Masculino'),\n",
       " Row(ID='8',  Nome=' Gabriela Lima',  Email=' gabriela@email.com',  Telefone=' 666777888',  Cidade=' Fortaleza',  Aniversario=' 12/06/1992',  Sexo=' Feminino'),\n",
       " Row(ID='9',  Nome=' Ricardo Fernandes',  Email=' ricardo@email.com',  Telefone=' 222111444',  Cidade=' Porto Alegre',  Aniversario=' 08/04/1987',  Sexo=' Masculino'),\n",
       " Row(ID='10',  Nome=' Marina Almeida',  Email=' marina@email.com',  Telefone=' 333444555',  Cidade=' Manaus',  Aniversario=' 18/10/1983',  Sexo=' Feminino')]"
      ]
     },
     "execution_count": 5,
     "metadata": {},
     "output_type": "execute_result"
    }
   ],
   "source": [
    "people_csv.head(10)"
   ]
  },
  {
   "cell_type": "code",
   "execution_count": 6,
   "id": "89b339c2-86b3-432f-a99d-9fd4d4830775",
   "metadata": {},
   "outputs": [
    {
     "name": "stdout",
     "output_type": "stream",
     "text": [
      "+---+------------------+-------------------+----------+---------------+------------+----------+\n",
      "| ID|              Nome|              Email|  Telefone|         Cidade| Aniversario|      Sexo|\n",
      "+---+------------------+-------------------+----------+---------------+------------+----------+\n",
      "|  1|        João Silva|     joao@email.com| 123456789|      São Paulo|  01/01/1990| Masculino|\n",
      "|  2|    Maria Oliveira|    maria@email.com| 987654321| Rio de Janeiro|  15/05/1985|  Feminino|\n",
      "|  3|      Carlos Souza|   carlos@email.com| 555555555| Belo Horizonte|  10/11/1982| Masculino|\n",
      "|  4|        Ana Santos|      ana@email.com| 999888777|       Salvador|  20/03/1995|  Feminino|\n",
      "|  5|       Pedro Costa|    pedro@email.com| 111222333|       Brasília|  05/09/1978| Masculino|\n",
      "|  6|  Fernanda Pereira| fernanda@email.com| 777888999|         Recife|  25/07/1989|  Feminino|\n",
      "|  7|   Thiago Oliveira|   thiago@email.com| 444333222|       Curitiba|  30/12/1980| Masculino|\n",
      "|  8|     Gabriela Lima| gabriela@email.com| 666777888|      Fortaleza|  12/06/1992|  Feminino|\n",
      "|  9| Ricardo Fernandes|  ricardo@email.com| 222111444|   Porto Alegre|  08/04/1987| Masculino|\n",
      "| 10|    Marina Almeida|   marina@email.com| 333444555|         Manaus|  18/10/1983|  Feminino|\n",
      "+---+------------------+-------------------+----------+---------------+------------+----------+\n",
      "\n"
     ]
    }
   ],
   "source": [
    "people_csv.show()\n"
   ]
  },
  {
   "cell_type": "code",
   "execution_count": 7,
   "id": "02559783-aba2-411a-bb93-74a4b0801104",
   "metadata": {},
   "outputs": [
    {
     "data": {
      "text/plain": [
       "10"
      ]
     },
     "execution_count": 7,
     "metadata": {},
     "output_type": "execute_result"
    }
   ],
   "source": [
    "people_csv.count()"
   ]
  },
  {
   "cell_type": "code",
   "execution_count": 8,
   "id": "18ed1104-f77f-496d-bf70-2a42c0509994",
   "metadata": {},
   "outputs": [
    {
     "name": "stdout",
     "output_type": "stream",
     "text": [
      "+---+------------------+-------------------+----------+---------------+------------+----------+\n",
      "| ID|              Nome|              Email|  Telefone|         Cidade| Aniversario|      Sexo|\n",
      "+---+------------------+-------------------+----------+---------------+------------+----------+\n",
      "|  1|        João Silva|     joao@email.com| 123456789|      São Paulo|  01/01/1990| Masculino|\n",
      "|  2|    Maria Oliveira|    maria@email.com| 987654321| Rio de Janeiro|  15/05/1985|  Feminino|\n",
      "|  3|      Carlos Souza|   carlos@email.com| 555555555| Belo Horizonte|  10/11/1982| Masculino|\n",
      "|  4|        Ana Santos|      ana@email.com| 999888777|       Salvador|  20/03/1995|  Feminino|\n",
      "|  5|       Pedro Costa|    pedro@email.com| 111222333|       Brasília|  05/09/1978| Masculino|\n",
      "|  6|  Fernanda Pereira| fernanda@email.com| 777888999|         Recife|  25/07/1989|  Feminino|\n",
      "|  7|   Thiago Oliveira|   thiago@email.com| 444333222|       Curitiba|  30/12/1980| Masculino|\n",
      "|  8|     Gabriela Lima| gabriela@email.com| 666777888|      Fortaleza|  12/06/1992|  Feminino|\n",
      "|  9| Ricardo Fernandes|  ricardo@email.com| 222111444|   Porto Alegre|  08/04/1987| Masculino|\n",
      "| 10|    Marina Almeida|   marina@email.com| 333444555|         Manaus|  18/10/1983|  Feminino|\n",
      "+---+------------------+-------------------+----------+---------------+------------+----------+\n",
      "\n"
     ]
    }
   ],
   "source": [
    "people_csv.withColumnRenamed('ID', 'id').withColumnRenamed('Nome', 'name').withColumnRenamed('Email', 'e-mail').withColumnRenamed('Telefone', 'phone_number').withColumnRenamed('Cidade', 'city').withColumnRenamed('Aniversario', 'birthday').withColumnRenamed('Sexo', 'sex')\n",
    "people_csv.show()"
   ]
  },
  {
   "cell_type": "code",
   "execution_count": 9,
   "id": "0233fd28-f9ec-4640-a2be-10f4758b0386",
   "metadata": {},
   "outputs": [
    {
     "data": {
      "text/plain": [
       "[Row(ID='1',  Nome=' João Silva',  Email=' joao@email.com',  Telefone=' 123456789',  Cidade=' São Paulo',  Aniversario=' 01/01/1990',  Sexo=' Masculino'),\n",
       " Row(ID='2',  Nome=' Maria Oliveira',  Email=' maria@email.com',  Telefone=' 987654321',  Cidade=' Rio de Janeiro',  Aniversario=' 15/05/1985',  Sexo=' Feminino'),\n",
       " Row(ID='3',  Nome=' Carlos Souza',  Email=' carlos@email.com',  Telefone=' 555555555',  Cidade=' Belo Horizonte',  Aniversario=' 10/11/1982',  Sexo=' Masculino'),\n",
       " Row(ID='4',  Nome=' Ana Santos',  Email=' ana@email.com',  Telefone=' 999888777',  Cidade=' Salvador',  Aniversario=' 20/03/1995',  Sexo=' Feminino'),\n",
       " Row(ID='5',  Nome=' Pedro Costa',  Email=' pedro@email.com',  Telefone=' 111222333',  Cidade=' Brasília',  Aniversario=' 05/09/1978',  Sexo=' Masculino'),\n",
       " Row(ID='6',  Nome=' Fernanda Pereira',  Email=' fernanda@email.com',  Telefone=' 777888999',  Cidade=' Recife',  Aniversario=' 25/07/1989',  Sexo=' Feminino'),\n",
       " Row(ID='7',  Nome=' Thiago Oliveira',  Email=' thiago@email.com',  Telefone=' 444333222',  Cidade=' Curitiba',  Aniversario=' 30/12/1980',  Sexo=' Masculino'),\n",
       " Row(ID='8',  Nome=' Gabriela Lima',  Email=' gabriela@email.com',  Telefone=' 666777888',  Cidade=' Fortaleza',  Aniversario=' 12/06/1992',  Sexo=' Feminino'),\n",
       " Row(ID='9',  Nome=' Ricardo Fernandes',  Email=' ricardo@email.com',  Telefone=' 222111444',  Cidade=' Porto Alegre',  Aniversario=' 08/04/1987',  Sexo=' Masculino'),\n",
       " Row(ID='10',  Nome=' Marina Almeida',  Email=' marina@email.com',  Telefone=' 333444555',  Cidade=' Manaus',  Aniversario=' 18/10/1983',  Sexo=' Feminino')]"
      ]
     },
     "execution_count": 9,
     "metadata": {},
     "output_type": "execute_result"
    },
    {
     "name": "stderr",
     "output_type": "stream",
     "text": [
      "24/04/13 13:16:09 WARN GarbageCollectionMetrics: To enable non-built-in garbage collector(s) List(G1 Concurrent GC), users should configure it(them) to spark.eventLog.gcMetrics.youngGenerationGarbageCollectors or spark.eventLog.gcMetrics.oldGenerationGarbageCollectors\n"
     ]
    }
   ],
   "source": [
    "people_csv.head(10)"
   ]
  },
  {
   "cell_type": "code",
   "execution_count": null,
   "id": "d9c3ef77-7b7a-49ce-b9b8-33d09b5271d4",
   "metadata": {},
   "outputs": [],
   "source": []
  },
  {
   "cell_type": "code",
   "execution_count": 10,
   "id": "95951d82-a436-4a90-9b03-9adc1eae52de",
   "metadata": {},
   "outputs": [
    {
     "name": "stdout",
     "output_type": "stream",
     "text": [
      "root\n",
      " |-- ID: string (nullable = true)\n",
      " |--  Nome: string (nullable = true)\n",
      " |--  Email: string (nullable = true)\n",
      " |--  Telefone: string (nullable = true)\n",
      " |--  Cidade: string (nullable = true)\n",
      " |--  Aniversario: string (nullable = true)\n",
      " |--  Sexo: string (nullable = true)\n",
      "\n"
     ]
    }
   ],
   "source": [
    "people_csv.printSchema()\n"
   ]
  }
 ],
 "metadata": {
  "kernelspec": {
   "display_name": "Python 3 (ipykernel)",
   "language": "python",
   "name": "python3"
  },
  "language_info": {
   "codemirror_mode": {
    "name": "ipython",
    "version": 3
   },
   "file_extension": ".py",
   "mimetype": "text/x-python",
   "name": "python",
   "nbconvert_exporter": "python",
   "pygments_lexer": "ipython3",
   "version": "3.11.6"
  }
 },
 "nbformat": 4,
 "nbformat_minor": 5
}
