{
 "cells": [
  {
   "cell_type": "code",
   "execution_count": 21,
   "id": "f321061e-e91f-4d7f-933e-ff98d0c407ba",
   "metadata": {},
   "outputs": [],
   "source": [
    "from pyspark.sql import SparkSession\n",
    "from pyspark.sql.types import *"
   ]
  },
  {
   "cell_type": "code",
   "execution_count": 22,
   "id": "1cb84022-ed60-4e28-a627-bd159064e2ea",
   "metadata": {},
   "outputs": [],
   "source": [
    "spark = SparkSession.builder.getOrCreate()"
   ]
  },
  {
   "cell_type": "code",
   "execution_count": 23,
   "id": "7d1c3d70-040b-48f5-aa64-f0ad793d7d03",
   "metadata": {},
   "outputs": [],
   "source": [
    "data_path = '/home/antoniojose/python_workspace'"
   ]
  },
  {
   "cell_type": "code",
   "execution_count": 24,
   "id": "44133bf2-a214-4b59-9eb1-8e2955edc81d",
   "metadata": {},
   "outputs": [],
   "source": [
    "schema = StructType([\n",
    "    StructField(\"ID\", IntegerType(), True),\n",
    "    StructField(\"Nome\", StringType(), True),\n",
    "    StructField(\"Email\", StringType(), True),\n",
    "    StructField(\"Telefone\", StringType(), True),\n",
    "    StructField(\"Cidade\", StringType(), True),\n",
    "    StructField(\"Aniversario\", StringType(), True),\n",
    "    StructField(\"Sexo\", StringType(), True)\n",
    "])"
   ]
  },
  {
   "cell_type": "code",
   "execution_count": 25,
   "id": "f45ffd66-ff70-4a11-8573-2d46a015768d",
   "metadata": {},
   "outputs": [],
   "source": [
    "file_path_csv = data_path + '/data/pessoas.csv'\n",
    "people_csv = spark.read.csv(file_path_csv, header=True, schema=schema)"
   ]
  },
  {
   "cell_type": "code",
   "execution_count": 26,
   "id": "2427dff2-189b-471f-b6e3-fc10956be56c",
   "metadata": {},
   "outputs": [],
   "source": [
    "people_csv.createOrReplaceTempView('people')"
   ]
  },
  {
   "cell_type": "code",
   "execution_count": 27,
   "id": "f80061d5-fca8-4c91-a568-e60e22eacc5c",
   "metadata": {},
   "outputs": [
    {
     "name": "stdout",
     "output_type": "stream",
     "text": [
      "+---+-----------------+------------------+---------+--------------+-----------+---------+\n",
      "| ID|             Nome|             Email| Telefone|        Cidade|Aniversario|     Sexo|\n",
      "+---+-----------------+------------------+---------+--------------+-----------+---------+\n",
      "|  1|       João Silva|    joao@email.com|123456789|     São Paulo| 01/01/1990|Masculino|\n",
      "|  2|   Maria Oliveira|   maria@email.com|987654321|Rio de Janeiro| 15/05/1985| Feminino|\n",
      "|  3|     Carlos Souza|  carlos@email.com|555555555|Belo Horizonte| 10/11/1982|Masculino|\n",
      "|  4|       Ana Santos|     ana@email.com|999888777|      Salvador| 20/03/1995| Feminino|\n",
      "|  5|      Pedro Costa|   pedro@email.com|111222333|      Brasília| 05/09/1978|Masculino|\n",
      "|  6| Fernanda Pereira|fernanda@email.com|777888999|        Recife| 25/07/1989| Feminino|\n",
      "|  7|  Thiago Oliveira|  thiago@email.com|444333222|      Curitiba| 30/12/1980|Masculino|\n",
      "|  8|    Gabriela Lima|gabriela@email.com|666777888|     Fortaleza| 12/06/1992| Feminino|\n",
      "|  9|Ricardo Fernandes| ricardo@email.com|222111444|  Porto Alegre| 08/04/1987|Masculino|\n",
      "| 10|   Marina Almeida|  marina@email.com|333444555|        Manaus| 18/10/1983| Feminino|\n",
      "+---+-----------------+------------------+---------+--------------+-----------+---------+\n",
      "\n"
     ]
    }
   ],
   "source": [
    "people_csv.show()"
   ]
  },
  {
   "cell_type": "code",
   "execution_count": 28,
   "id": "6a74779b-a2b2-4ec7-9f2b-72e4fb828b2c",
   "metadata": {},
   "outputs": [
    {
     "name": "stdout",
     "output_type": "stream",
     "text": [
      "+---+-----------------+------------------+---------+--------------+-----------+---------+\n",
      "| ID|             Nome|             Email| Telefone|        Cidade|Aniversario|     Sexo|\n",
      "+---+-----------------+------------------+---------+--------------+-----------+---------+\n",
      "|  1|       João Silva|    joao@email.com|123456789|     São Paulo| 01/01/1990|Masculino|\n",
      "|  2|   Maria Oliveira|   maria@email.com|987654321|Rio de Janeiro| 15/05/1985| Feminino|\n",
      "|  3|     Carlos Souza|  carlos@email.com|555555555|Belo Horizonte| 10/11/1982|Masculino|\n",
      "|  4|       Ana Santos|     ana@email.com|999888777|      Salvador| 20/03/1995| Feminino|\n",
      "|  5|      Pedro Costa|   pedro@email.com|111222333|      Brasília| 05/09/1978|Masculino|\n",
      "|  6| Fernanda Pereira|fernanda@email.com|777888999|        Recife| 25/07/1989| Feminino|\n",
      "|  7|  Thiago Oliveira|  thiago@email.com|444333222|      Curitiba| 30/12/1980|Masculino|\n",
      "|  8|    Gabriela Lima|gabriela@email.com|666777888|     Fortaleza| 12/06/1992| Feminino|\n",
      "|  9|Ricardo Fernandes| ricardo@email.com|222111444|  Porto Alegre| 08/04/1987|Masculino|\n",
      "| 10|   Marina Almeida|  marina@email.com|333444555|        Manaus| 18/10/1983| Feminino|\n",
      "+---+-----------------+------------------+---------+--------------+-----------+---------+\n",
      "\n"
     ]
    }
   ],
   "source": [
    "select_all = spark.sql('SELECT * FROM people')\n",
    "select_all.show()"
   ]
  },
  {
   "cell_type": "code",
   "execution_count": 29,
   "id": "a664c44f-4555-4ea5-9cf3-6c05a06dd841",
   "metadata": {},
   "outputs": [
    {
     "name": "stdout",
     "output_type": "stream",
     "text": [
      "+---+-----------------+------------------+---------+--------------+-----------+---------+\n",
      "| ID|             Nome|             Email| Telefone|        Cidade|Aniversario|     Sexo|\n",
      "+---+-----------------+------------------+---------+--------------+-----------+---------+\n",
      "|  4|       Ana Santos|     ana@email.com|999888777|      Salvador| 20/03/1995| Feminino|\n",
      "|  3|     Carlos Souza|  carlos@email.com|555555555|Belo Horizonte| 10/11/1982|Masculino|\n",
      "|  6| Fernanda Pereira|fernanda@email.com|777888999|        Recife| 25/07/1989| Feminino|\n",
      "|  8|    Gabriela Lima|gabriela@email.com|666777888|     Fortaleza| 12/06/1992| Feminino|\n",
      "|  1|       João Silva|    joao@email.com|123456789|     São Paulo| 01/01/1990|Masculino|\n",
      "|  2|   Maria Oliveira|   maria@email.com|987654321|Rio de Janeiro| 15/05/1985| Feminino|\n",
      "| 10|   Marina Almeida|  marina@email.com|333444555|        Manaus| 18/10/1983| Feminino|\n",
      "|  5|      Pedro Costa|   pedro@email.com|111222333|      Brasília| 05/09/1978|Masculino|\n",
      "|  9|Ricardo Fernandes| ricardo@email.com|222111444|  Porto Alegre| 08/04/1987|Masculino|\n",
      "|  7|  Thiago Oliveira|  thiago@email.com|444333222|      Curitiba| 30/12/1980|Masculino|\n",
      "+---+-----------------+------------------+---------+--------------+-----------+---------+\n",
      "\n"
     ]
    }
   ],
   "source": [
    "select_all_ordering = spark.sql('SELECT * FROM people ORDER BY Nome ASC')\n",
    "select_all_ordering.show()"
   ]
  },
  {
   "cell_type": "code",
   "execution_count": 30,
   "id": "05c25f3a-9d4a-427d-b1eb-e08d41011a0e",
   "metadata": {},
   "outputs": [
    {
     "name": "stdout",
     "output_type": "stream",
     "text": [
      "+---+-----------------+-----------------+---------+--------------+-----------+---------+\n",
      "| ID|             Nome|            Email| Telefone|        Cidade|Aniversario|     Sexo|\n",
      "+---+-----------------+-----------------+---------+--------------+-----------+---------+\n",
      "|  3|     Carlos Souza| carlos@email.com|555555555|Belo Horizonte| 10/11/1982|Masculino|\n",
      "|  1|       João Silva|   joao@email.com|123456789|     São Paulo| 01/01/1990|Masculino|\n",
      "|  5|      Pedro Costa|  pedro@email.com|111222333|      Brasília| 05/09/1978|Masculino|\n",
      "|  9|Ricardo Fernandes|ricardo@email.com|222111444|  Porto Alegre| 08/04/1987|Masculino|\n",
      "|  7|  Thiago Oliveira| thiago@email.com|444333222|      Curitiba| 30/12/1980|Masculino|\n",
      "+---+-----------------+-----------------+---------+--------------+-----------+---------+\n",
      "\n"
     ]
    }
   ],
   "source": [
    "select_all_male = spark.sql('SELECT * FROM people WHERE Sexo = \"Masculino\" ORDER BY Nome ASC')\n",
    "select_all_male.show()"
   ]
  },
  {
   "cell_type": "code",
   "execution_count": 31,
   "id": "e6dc94c5-6f71-49f6-9994-64d4baa6181c",
   "metadata": {},
   "outputs": [
    {
     "name": "stdout",
     "output_type": "stream",
     "text": [
      "+---+----------------+------------------+---------+--------------+-----------+--------+\n",
      "| ID|            Nome|             Email| Telefone|        Cidade|Aniversario|    Sexo|\n",
      "+---+----------------+------------------+---------+--------------+-----------+--------+\n",
      "|  4|      Ana Santos|     ana@email.com|999888777|      Salvador| 20/03/1995|Feminino|\n",
      "|  6|Fernanda Pereira|fernanda@email.com|777888999|        Recife| 25/07/1989|Feminino|\n",
      "|  8|   Gabriela Lima|gabriela@email.com|666777888|     Fortaleza| 12/06/1992|Feminino|\n",
      "|  2|  Maria Oliveira|   maria@email.com|987654321|Rio de Janeiro| 15/05/1985|Feminino|\n",
      "| 10|  Marina Almeida|  marina@email.com|333444555|        Manaus| 18/10/1983|Feminino|\n",
      "+---+----------------+------------------+---------+--------------+-----------+--------+\n",
      "\n"
     ]
    }
   ],
   "source": [
    "select_all_woman = spark.sql('SELECT * FROM people WHERE Sexo = \"Feminino\" ORDER BY Nome ASC')\n",
    "select_all_woman.show()"
   ]
  },
  {
   "cell_type": "code",
   "execution_count": null,
   "id": "7c6805bf-e7d5-44f4-8558-e5d31d795cba",
   "metadata": {},
   "outputs": [],
   "source": []
  }
 ],
 "metadata": {
  "kernelspec": {
   "display_name": "Python 3 (ipykernel)",
   "language": "python",
   "name": "python3"
  },
  "language_info": {
   "codemirror_mode": {
    "name": "ipython",
    "version": 3
   },
   "file_extension": ".py",
   "mimetype": "text/x-python",
   "name": "python",
   "nbconvert_exporter": "python",
   "pygments_lexer": "ipython3",
   "version": "3.11.6"
  }
 },
 "nbformat": 4,
 "nbformat_minor": 5
}
